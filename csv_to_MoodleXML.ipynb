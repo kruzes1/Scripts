{
  "nbformat": 4,
  "nbformat_minor": 0,
  "metadata": {
    "colab": {
      "provenance": [],
      "authorship_tag": "ABX9TyNJ+8uah7nINuvRFjIAiF+o",
      "include_colab_link": true
    },
    "kernelspec": {
      "name": "python3",
      "display_name": "Python 3"
    },
    "language_info": {
      "name": "python"
    }
  },
  "cells": [
    {
      "cell_type": "markdown",
      "metadata": {
        "id": "view-in-github",
        "colab_type": "text"
      },
      "source": [
        "<a href=\"https://colab.research.google.com/github/kruzes1/Scripts/blob/main/csv_to_MoodleXML.ipynb\" target=\"_parent\"><img src=\"https://colab.research.google.com/assets/colab-badge.svg\" alt=\"Open In Colab\"/></a>"
      ]
    },
    {
      "cell_type": "markdown",
      "source": [
        "####This is Script to convert CSV file of Questions to MoodleXML file format to upload Bulk Question Bank. \n",
        "####These will be MCQ questions with 4 Options and Only One Correct Answer.\n",
        "####These questions will have negative marking of 1/4(25%), hence, Every wrong answer will also deduct 25% marks. \n",
        "####If you leave the questions unattempted, That will not result in any kind of Negative marking. \n"
      ],
      "metadata": {
        "id": "n6k1OGVyWk_D"
      }
    },
    {
      "cell_type": "code",
      "execution_count": null,
      "metadata": {
        "id": "j4nVyP7zWJmG"
      },
      "outputs": [],
      "source": [
        "import csv \n",
        "import xml.etree.ElementTree as ET\n",
        "\n",
        "# Open the CSV file and read the rows into a list\n",
        "with open('questions.csv', newline='') as csvfile:\n",
        "    reader = csv.reader(csvfile)\n",
        "    rows = list(reader)\n",
        "\n",
        "# Create the root element of the XML document\n",
        "root = ET.Element('quiz')\n",
        "\n",
        "# Loop over the rows of the CSV file and create XML elements for each question\n",
        "for i, row in enumerate(rows):\n",
        "    if i == 0:  # Skip the header row\n",
        "        continue\n",
        "\n",
        "    # Create the question element\n",
        "    question = ET.SubElement(root, 'question')\n",
        "    question.set('type', 'multichoice')\n",
        "\n",
        "    # Add shuffleanswers and answernumbering elements to the question\n",
        "    shuffleanswers = ET.SubElement(question, 'shuffleanswers')\n",
        "    shuffleanswers.text = 'true'\n",
        "\n",
        "    answernumbering = ET.SubElement(question, 'answernumbering')\n",
        "    answernumbering.text = 'abc'\n",
        "\n",
        "    # Create the name element\n",
        "    name = ET.SubElement(question, 'name')\n",
        "    name_text = ET.SubElement(name, 'text')\n",
        "    name_text.text = row[0]\n",
        "\n",
        "    # Create the questiontext element\n",
        "    questiontext = ET.SubElement(question, 'questiontext')\n",
        "    questiontext.set('format', 'html')\n",
        "    questiontext_text = ET.SubElement(questiontext, 'text')\n",
        "    questiontext_text.text = row[1]\n",
        "\n",
        "    # Create the answers elements\n",
        "    for j in range(2, 6):\n",
        "        answer = ET.SubElement(question, 'answer')\n",
        "        answer.set('format', 'html')\n",
        "        if j == 2:  # The first answer is correct\n",
        "            answer.set('fraction', '100')\n",
        "        else:\n",
        "            answer.set('fraction', '-25')\n",
        "        answer_text = ET.SubElement(answer, 'text')\n",
        "        answer_text.text = row[j]\n",
        "        feedback = ET.SubElement(answer, 'feedback')\n",
        "        feedback.set('format', 'html')\n",
        "        feedback_text = ET.SubElement(feedback, 'text')\n",
        "        feedback_text.text = ''\n",
        "\n",
        "    # Create the tags element\n",
        "    tags = ET.SubElement(question, 'tags')\n",
        "    for tag_name in row[6:]:\n",
        "        tag = ET.SubElement(tags, 'tag')\n",
        "        tag_text = ET.SubElement(tag, 'text')\n",
        "        tag_text.text = tag_name\n",
        "\n",
        "    # Set negative marking for all questions\n",
        "    penalty = ET.SubElement(question, 'penalty')\n",
        "    penalty.text = '0.25'\n",
        "\n",
        "# Write the XML document to a file\n",
        "with open('questions.xml', 'w') as xmlfile:\n",
        "    xmlfile.write('<?xml version=\"1.0\" encoding=\"UTF-8\"?>\\n')\n",
        "    xmlfile.write(ET.tostring(root, encoding='unicode'))\n"
      ]
    },
    {
      "cell_type": "markdown",
      "source": [],
      "metadata": {
        "id": "lX3mOlpRWjRc"
      }
    }
  ]
}